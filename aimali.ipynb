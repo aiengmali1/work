{
 "cells": [
  {
   "cell_type": "code",
   "execution_count": 1,
   "id": "cb582227-5403-4d5b-abcd-eeb76003e5e0",
   "metadata": {},
   "outputs": [
    {
     "name": "stdout",
     "output_type": "stream",
     "text": [
      "hello\n"
     ]
    }
   ],
   "source": [
    "print(\"hello\") # i used this code for .... "
   ]
  },
  {
   "cell_type": "code",
   "execution_count": 2,
   "id": "44cffc0f-3fd1-4c8d-a48f-1f736e11cdb6",
   "metadata": {},
   "outputs": [
    {
     "name": "stdout",
     "output_type": "stream",
     "text": [
      "youssef\n"
     ]
    }
   ],
   "source": [
    "print(\"youssef\")"
   ]
  },
  {
   "cell_type": "code",
   "execution_count": 4,
   "id": "e6b41c7c-8f01-40a7-9aa8-a55763a79978",
   "metadata": {},
   "outputs": [],
   "source": [
    "# comment i love python"
   ]
  },
  {
   "cell_type": "code",
   "execution_count": 5,
   "id": "6b88134f-ea18-4df4-80c2-62b251e87e2a",
   "metadata": {},
   "outputs": [
    {
     "name": "stdout",
     "output_type": "stream",
     "text": [
      "mido\n",
      "elsy\n"
     ]
    }
   ],
   "source": [
    "print (\"mido\")\n",
    "print (\"elsy\")"
   ]
  },
  {
   "cell_type": "code",
   "execution_count": 6,
   "id": "9236ad2a-0c10-4bba-8539-b2be11cbf762",
   "metadata": {},
   "outputs": [],
   "source": [
    "# comment  code created by mphamed ali "
   ]
  },
  {
   "cell_type": "code",
   "execution_count": 8,
   "id": "ba9a9007-19e4-4917-8944-2d3b7adbed9b",
   "metadata": {},
   "outputs": [
    {
     "name": "stdout",
     "output_type": "stream",
     "text": [
      "10\n",
      "<class 'int'>\n"
     ]
    }
   ],
   "source": [
    "# type()\n",
    "# all data in pythan is object\n",
    "print(10)\n",
    "print (type(10))  # int   interger"
   ]
  },
  {
   "cell_type": "code",
   "execution_count": 9,
   "id": "c3f17aaa-8b56-498b-9c8a-e456658de786",
   "metadata": {},
   "outputs": [
    {
     "name": "stdout",
     "output_type": "stream",
     "text": [
      "<class 'float'>\n"
     ]
    }
   ],
   "source": [
    "print(type(100.8))  # floating number "
   ]
  },
  {
   "cell_type": "code",
   "execution_count": 10,
   "id": "052a59b3-9462-468e-98d1-fdcaaec6b1c0",
   "metadata": {},
   "outputs": [
    {
     "name": "stdout",
     "output_type": "stream",
     "text": [
      "<class 'str'>\n"
     ]
    }
   ],
   "source": [
    "print(type(\"hello\"))  # string"
   ]
  },
  {
   "cell_type": "code",
   "execution_count": 11,
   "id": "e1949fa7-55a2-4cce-9246-c8f1dab57d71",
   "metadata": {},
   "outputs": [
    {
     "name": "stdout",
     "output_type": "stream",
     "text": [
      "<class 'list'>\n"
     ]
    }
   ],
   "source": [
    "print(type([1,2,3]))  # list"
   ]
  },
  {
   "cell_type": "code",
   "execution_count": 12,
   "id": "b3da8637-f03d-4d5a-a983-ab7cb52da294",
   "metadata": {},
   "outputs": [
    {
     "name": "stdout",
     "output_type": "stream",
     "text": [
      "<class 'tuple'>\n"
     ]
    }
   ],
   "source": [
    "print (type((1,2,3))) #tuble"
   ]
  },
  {
   "cell_type": "code",
   "execution_count": 15,
   "id": "4b3236e6-6f03-46e4-b710-6f442762b725",
   "metadata": {},
   "outputs": [
    {
     "name": "stdout",
     "output_type": "stream",
     "text": [
      "<class 'dict'>\n"
     ]
    }
   ],
   "source": [
    "print(type({\"one\":1,\"two\":2,\"three\":3}))  # dict"
   ]
  },
  {
   "cell_type": "code",
   "execution_count": 16,
   "id": "8ee0dc83-ce81-4ed2-ad60-be25c1bb7243",
   "metadata": {},
   "outputs": [
    {
     "name": "stdout",
     "output_type": "stream",
     "text": [
      "True\n"
     ]
    }
   ],
   "source": [
    "print(2==2)   # boolean"
   ]
  },
  {
   "cell_type": "code",
   "execution_count": 17,
   "id": "2273d516-5dee-4bfa-b4ed-99cff434fd57",
   "metadata": {},
   "outputs": [
    {
     "name": "stdout",
     "output_type": "stream",
     "text": [
      "False\n"
     ]
    }
   ],
   "source": [
    "print (2==4)  # boolean"
   ]
  },
  {
   "cell_type": "code",
   "execution_count": 18,
   "id": "f9f51881-da4d-4e26-b97f-aa1725a477fd",
   "metadata": {},
   "outputs": [],
   "source": [
    "#variables"
   ]
  },
  {
   "cell_type": "code",
   "execution_count": 19,
   "id": "d13a56ae-010b-41c9-bc2a-3ed6cdc10a02",
   "metadata": {},
   "outputs": [
    {
     "name": "stdout",
     "output_type": "stream",
     "text": [
      "a\n"
     ]
    }
   ],
   "source": [
    "myvariable=\"a\"\n",
    "print(myvariable)"
   ]
  },
  {
   "cell_type": "code",
   "execution_count": 20,
   "id": "17465419-5e94-4090-bfd4-e2da1534feb8",
   "metadata": {},
   "outputs": [],
   "source": [
    "# can start a to z and A TO Z \n",
    "#ASSIGN FIRST then print"
   ]
  },
  {
   "cell_type": "code",
   "execution_count": 23,
   "id": "e3cd513a-f602-49b5-9f6f-8ebe0a65ceff",
   "metadata": {},
   "outputs": [
    {
     "name": "stdout",
     "output_type": "stream",
     "text": [
      "name\n"
     ]
    }
   ],
   "source": [
    "name=\"mohamed\"  # single word\n",
    "print(\"name\")\n",
    "myname=\"mohamed\" # two word \n",
    "my_name=\"mohamed\" # two word"
   ]
  },
  {
   "cell_type": "code",
   "execution_count": 24,
   "id": "81e39385-200c-4b58-bf4d-24bcf425f919",
   "metadata": {},
   "outputs": [],
   "source": [
    "# source code \n",
    "# translation : converting code to machine lang "
   ]
  },
  {
   "cell_type": "code",
   "execution_count": 25,
   "id": "bd74e93a-1351-4534-8548-549d47867cc6",
   "metadata": {},
   "outputs": [
    {
     "name": "stdout",
     "output_type": "stream",
     "text": [
      "hello\n"
     ]
    }
   ],
   "source": [
    "x=10\n",
    "x=\"hello\"\n",
    "print(x)"
   ]
  },
  {
   "cell_type": "code",
   "execution_count": 26,
   "id": "38d362c2-67ca-4cf0-a7b7-be81de4157b0",
   "metadata": {},
   "outputs": [],
   "source": [
    "# reserved code "
   ]
  },
  {
   "cell_type": "code",
   "execution_count": 27,
   "id": "a82eb661-d8d5-4dcf-9937-c38d66d2448c",
   "metadata": {},
   "outputs": [
    {
     "name": "stdout",
     "output_type": "stream",
     "text": [
      "Help on module keyword:\n",
      "\n",
      "NAME\n",
      "    keyword - Keywords (from \"Grammar/python.gram\")\n",
      "\n",
      "MODULE REFERENCE\n",
      "    https://docs.python.org/3.11/library/keyword.html\n",
      "    \n",
      "    The following documentation is automatically generated from the Python\n",
      "    source files.  It may be incomplete, incorrect or include features that\n",
      "    are considered implementation detail and may vary between Python\n",
      "    implementations.  When in doubt, consult the module reference at the\n",
      "    location listed above.\n",
      "\n",
      "DESCRIPTION\n",
      "    This file is automatically generated; please don't muck it up!\n",
      "    \n",
      "    To update the symbols in this file, 'cd' to the top directory of\n",
      "    the python source tree and run:\n",
      "    \n",
      "        PYTHONPATH=Tools/peg_generator python3 -m pegen.keywordgen         Grammar/python.gram         Grammar/Tokens         Lib/keyword.py\n",
      "    \n",
      "    Alternatively, you can run 'make regen-keyword'.\n",
      "\n",
      "FUNCTIONS\n",
      "    iskeyword = __contains__(...) method of builtins.frozenset instance\n",
      "        x.__contains__(y) <==> y in x.\n",
      "    \n",
      "    issoftkeyword = __contains__(...) method of builtins.frozenset instance\n",
      "        x.__contains__(y) <==> y in x.\n",
      "\n",
      "DATA\n",
      "    __all__ = ['iskeyword', 'issoftkeyword', 'kwlist', 'softkwlist']\n",
      "    kwlist = ['False', 'None', 'True', 'and', 'as', 'assert', 'async', 'aw...\n",
      "    softkwlist = ['_', 'case', 'match']\n",
      "\n",
      "FILE\n",
      "    c:\\users\\elalamia\\anaconda3\\lib\\keyword.py\n",
      "\n",
      "\n"
     ]
    }
   ],
   "source": [
    "help(\"keyword\")"
   ]
  },
  {
   "cell_type": "code",
   "execution_count": 28,
   "id": "415e5a55-8635-490d-b061-637eb45ace10",
   "metadata": {},
   "outputs": [
    {
     "name": "stdout",
     "output_type": "stream",
     "text": [
      "1\n",
      "2\n",
      "3\n"
     ]
    }
   ],
   "source": [
    "a,b,c =1,2,3\n",
    "print (a)\n",
    "print (b)\n",
    "print (c)\n"
   ]
  },
  {
   "cell_type": "code",
   "execution_count": 29,
   "id": "a8f3bd7d-0700-4831-8712-ce0d3c7a3ae5",
   "metadata": {},
   "outputs": [
    {
     "ename": "ValueError",
     "evalue": "not enough values to unpack (expected 3, got 2)",
     "output_type": "error",
     "traceback": [
      "\u001b[1;31m---------------------------------------------------------------------------\u001b[0m",
      "\u001b[1;31mValueError\u001b[0m                                Traceback (most recent call last)",
      "Cell \u001b[1;32mIn[29], line 1\u001b[0m\n\u001b[1;32m----> 1\u001b[0m a,b,c\u001b[38;5;241m=\u001b[39m\u001b[38;5;241m1\u001b[39m,\u001b[38;5;241m2\u001b[39m\n\u001b[0;32m      2\u001b[0m \u001b[38;5;28mprint\u001b[39m (a)\n\u001b[0;32m      3\u001b[0m \u001b[38;5;28mprint\u001b[39m (b)\n",
      "\u001b[1;31mValueError\u001b[0m: not enough values to unpack (expected 3, got 2)"
     ]
    }
   ],
   "source": [
    "a,b,c=1,2\n",
    "print (a)\n",
    "print (b)\n",
    "print (c)"
   ]
  },
  {
   "cell_type": "code",
   "execution_count": 2,
   "id": "f9e1ea02-4b58-4537-b6cc-e4cdd130b8fc",
   "metadata": {},
   "outputs": [],
   "source": [
    "# escape sequences charcchters\n"
   ]
  },
  {
   "cell_type": "code",
   "execution_count": 3,
   "id": "eec2627e-2056-4e0d-86d7-159223b7f655",
   "metadata": {},
   "outputs": [],
   "source": [
    "# comment conctantion "
   ]
  },
  {
   "cell_type": "code",
   "execution_count": 11,
   "id": "6ccf82bf-c2e0-4129-aaf1-8452d7918dfa",
   "metadata": {},
   "outputs": [
    {
     "name": "stdout",
     "output_type": "stream",
     "text": [
      "myname mohamed\n"
     ]
    }
   ],
   "source": [
    "msg=\"myname\"\n",
    "name=\"mohamed\"\n",
    "print(msg+\" \"+name)"
   ]
  },
  {
   "cell_type": "code",
   "execution_count": 12,
   "id": "6eccb815-6cbd-4e77-aee3-8497a9bdbbc0",
   "metadata": {},
   "outputs": [],
   "source": [
    "# string"
   ]
  },
  {
   "cell_type": "code",
   "execution_count": 18,
   "id": "09743b91-c7ec-4853-8bff-18e0b31e4e14",
   "metadata": {},
   "outputs": [
    {
     "name": "stdout",
     "output_type": "stream",
     "text": [
      "mohamed\n",
      "youssef'test'\n",
      "first\n",
      "second\n",
      "third\n",
      "first\n",
      "second\n",
      "third\n"
     ]
    }
   ],
   "source": [
    "mystring='mohamed'\n",
    "mystring2=\"youssef\"\n",
    "mystring3=\"youssef'test'\"\n",
    "mystring4='''first\n",
    "second\n",
    "third'''\n",
    "mystring5=\"\"\"first\n",
    "second\n",
    "third\"\"\"\n",
    "\n",
    "print(mystring)\n",
    "print(mystring3)\n",
    "print(mystring4)\n",
    "print(mystring5)\n"
   ]
  },
  {
   "cell_type": "code",
   "execution_count": 34,
   "id": "a6fb41d1-0ee2-41e4-a060-76ef9f148567",
   "metadata": {},
   "outputs": [
    {
     "name": "stdout",
     "output_type": "stream",
     "text": [
      "t\n",
      "yth\n",
      "ve\n",
      "i love\n",
      "ve python\n",
      "i love python\n",
      "i love python\n",
      "io tn\n"
     ]
    }
   ],
   "source": [
    "mystring='i love python'\n",
    "print(mystring[-4])\n",
    "print(mystring[8:11]) \n",
    "print(mystring[4:6]) \n",
    "print(mystring[:6]) \n",
    "print(mystring[4:]) \n",
    "print(mystring[:])\n",
    "print(mystring[0::1]) \n",
    "\n",
    "\n",
    "print(mystring[::3])"
   ]
  },
  {
   "cell_type": "code",
   "execution_count": 25,
   "id": "4a8a3d42-bbcb-44dd-9d8d-065fc06d8d67",
   "metadata": {},
   "outputs": [],
   "source": [
    "# slicing"
   ]
  },
  {
   "cell_type": "code",
   "execution_count": 35,
   "id": "7d9ebc55-b757-4aa7-b046-231d9bb62dc6",
   "metadata": {},
   "outputs": [],
   "source": [
    "# string methods"
   ]
  },
  {
   "cell_type": "code",
   "execution_count": 47,
   "id": "1f1204eb-6e28-4423-8a5e-0f3017512fc2",
   "metadata": {},
   "outputs": [
    {
     "name": "stdout",
     "output_type": "stream",
     "text": [
      "13\n",
      "19\n",
      "i love python\n",
      "i love python\n",
      "i love python\n",
      "i !!! love python\n"
     ]
    }
   ],
   "source": [
    "a=\"i love python\"\n",
    "print(len(a)) \n",
    "b='      i love python' \n",
    "print(len(b)) \n",
    "print(a.strip()) \n",
    "print(b.lstrip()) \n",
    "\n",
    "c=\"@@##i love python\"\n",
    "print(c.lstrip(\"@#\"))\n",
    "d=\"i !!! love python\"\n",
    "print(d.strip(\"!!!\"))\n",
    "\n",
    "\n"
   ]
  },
  {
   "cell_type": "code",
   "execution_count": 48,
   "id": "718bba6b-3296-46dc-a1cb-7d1032a15beb",
   "metadata": {},
   "outputs": [],
   "source": [
    "#tittle"
   ]
  },
  {
   "cell_type": "code",
   "execution_count": 53,
   "id": "c964ee44-f7b9-4295-b3e2-ba7f1ea926d1",
   "metadata": {},
   "outputs": [
    {
     "name": "stdout",
     "output_type": "stream",
     "text": [
      "I Love Football And Reading 4B\n",
      "I love football and reading 4b\n"
     ]
    }
   ],
   "source": [
    "a = 'i love Football and Reading 4b'\n",
    "print(a.title()) \n",
    "b = 'i love Football and Reading 4b'\n",
    "print(b.capitalize())"
   ]
  },
  {
   "cell_type": "code",
   "execution_count": 59,
   "id": "5d4383d3-19e7-4904-a775-e83df9a1e992",
   "metadata": {},
   "outputs": [
    {
     "name": "stdout",
     "output_type": "stream",
     "text": [
      "001\n",
      "011\n",
      "334\n"
     ]
    }
   ],
   "source": [
    "a,b,c=\"1\",\"11\",\"334\"\n",
    "print(a.zfill(3)) \n",
    "print(b.zfill(3)) \n",
    "print(c.zfill(3))"
   ]
  },
  {
   "cell_type": "code",
   "execution_count": 60,
   "id": "564b8e7f-f18f-4118-9837-a5ba6defa6d0",
   "metadata": {},
   "outputs": [],
   "source": [
    "# upper "
   ]
  },
  {
   "cell_type": "code",
   "execution_count": 64,
   "id": "35e60983-fd4c-4659-af40-5a0fc8fad56d",
   "metadata": {},
   "outputs": [
    {
     "name": "stdout",
     "output_type": "stream",
     "text": [
      "MOHAMED\n"
     ]
    }
   ],
   "source": [
    "a ='mohamed'\n",
    "print(a.upper())"
   ]
  },
  {
   "cell_type": "code",
   "execution_count": 65,
   "id": "7db431dc-c8f4-4acc-85e2-9f81b34d3540",
   "metadata": {},
   "outputs": [
    {
     "name": "stdout",
     "output_type": "stream",
     "text": [
      "ahmed\n"
     ]
    }
   ],
   "source": [
    "#lower\n",
    "b=\"AHMED\"\n",
    "print(b.lower())"
   ]
  },
  {
   "cell_type": "code",
   "execution_count": 71,
   "id": "1c6de075-1784-4b55-9d2a-7f02d384e118",
   "metadata": {},
   "outputs": [
    {
     "name": "stdout",
     "output_type": "stream",
     "text": [
      "['i', 'love', 'python', 'and', 'redaing']\n",
      "['ilovepythonandredaing']\n",
      "['i', 'love', 'python', 'and', 'redaing']\n",
      "['i', 'love', 'python', 'and-redaing']\n",
      "['i-love', 'python', 'and', 'redaing']\n"
     ]
    }
   ],
   "source": [
    "#split\n",
    "a=\"i love python and redaing\" \n",
    "b=\"ilovepythonandredaing\"  \n",
    "c=\"i-love-python-and-redaing\" \n",
    "d=\"i-love-python-and-redaing\" \n",
    "e=\"i-love-python-and-redaing\" \n",
    "\n",
    "\n",
    "print(a.split()) \n",
    "print(b.split())\n",
    "print(c.split(\"-\")) \n",
    "print(d.split(\"-\",3)) \n",
    "print(e.rsplit(\"-\",3))"
   ]
  },
  {
   "cell_type": "code",
   "execution_count": null,
   "id": "3899dd50-210d-404b-b17b-2bb73293c92f",
   "metadata": {},
   "outputs": [],
   "source": [
    "#maxsplit"
   ]
  },
  {
   "cell_type": "code",
   "execution_count": 72,
   "id": "866a4412-b150-45af-bc3e-3e76bec18a0f",
   "metadata": {},
   "outputs": [],
   "source": [
    "#center()"
   ]
  },
  {
   "cell_type": "code",
   "execution_count": 82,
   "id": "335ed307-920e-461d-89c7-fea5b2f6f281",
   "metadata": {},
   "outputs": [
    {
     "name": "stdout",
     "output_type": "stream",
     "text": [
      "  mohamed  \n",
      "@@@mohames@@@\n"
     ]
    }
   ],
   "source": [
    "a= \"mohamed\" \n",
    "b= \"mohames\"\n",
    "\n",
    "print(a.center(11)) \n",
    "print(b.center(13,\"@\"))"
   ]
  },
  {
   "cell_type": "code",
   "execution_count": 83,
   "id": "0be86649-e12e-4d1c-9e2c-dca8210a40da",
   "metadata": {},
   "outputs": [],
   "source": [
    "#count"
   ]
  },
  {
   "cell_type": "code",
   "execution_count": 87,
   "id": "68ae9b94-5a5a-49dd-b0b8-b24ba8e2ec02",
   "metadata": {},
   "outputs": [
    {
     "name": "stdout",
     "output_type": "stream",
     "text": [
      "2\n"
     ]
    }
   ],
   "source": [
    "a = \" i love bhp and python bacause bhp is easy\"\n",
    "print(a.count(\"bhp\"))"
   ]
  },
  {
   "cell_type": "code",
   "execution_count": 88,
   "id": "cc4991ad-bdb8-4035-8e45-01f858aa3721",
   "metadata": {},
   "outputs": [
    {
     "name": "stdout",
     "output_type": "stream",
     "text": [
      "1\n"
     ]
    }
   ],
   "source": [
    "b = \" i love bhp and python bacause bhp is easy\"\n",
    "print(b.count(\"bhp\",0,20))"
   ]
  },
  {
   "cell_type": "code",
   "execution_count": 90,
   "id": "b49fe430-b32d-4343-9a68-e2879eea307f",
   "metadata": {},
   "outputs": [
    {
     "name": "stdout",
     "output_type": "stream",
     "text": [
      " i LOVe BHP ANd PYTHON BACAUSE bHP IS EASY\n",
      " I LOVE BHP AND PYTHON BACAUSE BHP IS EASY\n"
     ]
    }
   ],
   "source": [
    "#swapcase\n",
    "a = \" I lovE bhp anD python bacause Bhp is easy\"\n",
    "B = \" I lovE bhp anD pythoN Cacause Bhp is easy\"\n",
    "print(a.swapcase())\n",
    "print(b.swapcase())\n",
    "\n"
   ]
  },
  {
   "cell_type": "code",
   "execution_count": 95,
   "id": "2d52b5cc-bd13-4a25-a9e1-95b9b01cd586",
   "metadata": {},
   "outputs": [
    {
     "name": "stdout",
     "output_type": "stream",
     "text": [
      "True\n",
      "False\n"
     ]
    }
   ],
   "source": [
    "#startswith\n",
    "i = \"i love python and php\"\n",
    "print(i.startswith(\"i\"))\n",
    "n = \"i love python and php\"\n",
    "print(n.startswith(\"p\",8,11))\n"
   ]
  },
  {
   "cell_type": "code",
   "execution_count": 100,
   "id": "8343c9b7-325f-4e77-b839-46ba3c216ec2",
   "metadata": {},
   "outputs": [
    {
     "name": "stdout",
     "output_type": "stream",
     "text": [
      "True\n",
      "False\n",
      "True\n"
     ]
    }
   ],
   "source": [
    "#startswith\n",
    "i = \"i love python and php\"\n",
    "print(i.endswith(\"p\"))\n",
    "print(i.endswith(\"n\"))\n",
    "print(i.endswith(\"e\",2,6))"
   ]
  },
  {
   "cell_type": "code",
   "execution_count": 104,
   "id": "97982cdf-981f-4ad5-91d6-8ea093297b92",
   "metadata": {},
   "outputs": [
    {
     "ename": "ValueError",
     "evalue": "substring not found",
     "output_type": "error",
     "traceback": [
      "\u001b[1;31m---------------------------------------------------------------------------\u001b[0m",
      "\u001b[1;31mValueError\u001b[0m                                Traceback (most recent call last)",
      "Cell \u001b[1;32mIn[104], line 2\u001b[0m\n\u001b[0;32m      1\u001b[0m a \u001b[38;5;241m=\u001b[39m \u001b[38;5;124m\"\u001b[39m\u001b[38;5;124mi love python\u001b[39m\u001b[38;5;124m\"\u001b[39m\n\u001b[1;32m----> 2\u001b[0m \u001b[38;5;28mprint\u001b[39m(a\u001b[38;5;241m.\u001b[39mindex(\u001b[38;5;124m\"\u001b[39m\u001b[38;5;124mn\u001b[39m\u001b[38;5;124m\"\u001b[39m,\u001b[38;5;241m2\u001b[39m,\u001b[38;5;241m5\u001b[39m))\n",
      "\u001b[1;31mValueError\u001b[0m: substring not found"
     ]
    }
   ],
   "source": [
    "a = \"i love python\"\n",
    "print(a.index(\"n\",2,5))"
   ]
  },
  {
   "cell_type": "code",
   "execution_count": 105,
   "id": "d6868d54-3c00-493c-8405-2319d4152bb8",
   "metadata": {},
   "outputs": [
    {
     "name": "stdout",
     "output_type": "stream",
     "text": [
      "-1\n"
     ]
    }
   ],
   "source": [
    "#find\n",
    "a = \"i love python\"\n",
    "print(a.find(\"n\",2,5))"
   ]
  },
  {
   "cell_type": "code",
   "execution_count": 108,
   "id": "f39b3fa9-71c1-46fc-a88c-7bb6ffd12751",
   "metadata": {},
   "outputs": [
    {
     "name": "stdout",
     "output_type": "stream",
     "text": [
      "   mohamed ###\n"
     ]
    }
   ],
   "source": [
    "#rjust\n",
    "\n",
    "a = \"mohamed\"\n",
    "print(a.rjust(10),\"###\")\n"
   ]
  },
  {
   "cell_type": "code",
   "execution_count": null,
   "id": "2620b011-4ab1-4c99-b25e-aca0246de3b3",
   "metadata": {},
   "outputs": [],
   "source": []
  }
 ],
 "metadata": {
  "kernelspec": {
   "display_name": "Python 3 (ipykernel)",
   "language": "python",
   "name": "python3"
  },
  "language_info": {
   "codemirror_mode": {
    "name": "ipython",
    "version": 3
   },
   "file_extension": ".py",
   "mimetype": "text/x-python",
   "name": "python",
   "nbconvert_exporter": "python",
   "pygments_lexer": "ipython3",
   "version": "3.11.7"
  }
 },
 "nbformat": 4,
 "nbformat_minor": 5
}
